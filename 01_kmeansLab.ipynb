{
 "cells": [
  {
   "attachments": {},
   "cell_type": "markdown",
   "metadata": {},
   "source": [
    "# Here we look at 2 implementations of KMeans\n",
    "The first uses Pandas DataFrame\n",
    "The second uses Numpy Arrays\n",
    "# Exercise in class  - complete the KMeans for the DataFrame 20 mins"
   ]
  },
  {
   "cell_type": "code",
   "execution_count": 1,
   "metadata": {},
   "outputs": [
    {
     "name": "stdout",
     "output_type": "stream",
     "text": [
      "(300, 2)\n"
     ]
    },
    {
     "data": {
      "image/png": "[encoded data removed]",
      "text/plain": [
       "<Figure size 640x480 with 1 Axes>"
      ]
     },
     "metadata": {},
     "output_type": "display_data"
    }
   ],
   "source": [
    "%matplotlib inline\n",
    "import matplotlib.pyplot as plt\n",
    "import seaborn as sns; sns.set()  # for plot styling\n",
    "import numpy as np\n",
    "from sklearn.datasets import make_blobs\n",
    "# make_blobs is a function that generates isotropic Gaussian blobs for clustering and returns a tuple of (X, y)\n",
    "X, y_true = make_blobs(n_samples=300, centers=2,\n",
    "                       cluster_std=0.60, random_state=0)\n",
    "print(X.shape)\n",
    "plt.scatter(X[:, 0], X[:, 1], s=50);"
   ]
  },
  {
   "cell_type": "code",
   "execution_count": 2,
   "metadata": {},
   "outputs": [
    {
     "data": {
      "text/html": [
       "<div>\n",
       "<style scoped>\n",
       "    .dataframe tbody tr th:only-of-type {\n",
       "        vertical-align: middle;\n",
       "    }\n",
       "\n",
       "    .dataframe tbody tr th {\n",
       "        vertical-align: top;\n",
       "    }\n",
       "\n",
       "    .dataframe thead th {\n",
       "        text-align: right;\n",
       "    }\n",
       "</style>\n",
       "<table border=\"1\" class=\"dataframe\">\n",
       "  <thead>\n",
       "    <tr style=\"text-align: right;\">\n",
       "      <th></th>\n",
       "      <th>X</th>\n",
       "      <th>Y</th>\n",
       "    </tr>\n",
       "  </thead>\n",
       "  <tbody>\n",
       "    <tr>\n",
       "      <th>0</th>\n",
       "      <td>2.406157</td>\n",
       "      <td>4.870475</td>\n",
       "    </tr>\n",
       "    <tr>\n",
       "      <th>1</th>\n",
       "      <td>2.580767</td>\n",
       "      <td>0.828599</td>\n",
       "    </tr>\n",
       "    <tr>\n",
       "      <th>2</th>\n",
       "      <td>1.062696</td>\n",
       "      <td>5.176351</td>\n",
       "    </tr>\n",
       "    <tr>\n",
       "      <th>3</th>\n",
       "      <td>2.548219</td>\n",
       "      <td>0.900839</td>\n",
       "    </tr>\n",
       "    <tr>\n",
       "      <th>4</th>\n",
       "      <td>1.390161</td>\n",
       "      <td>5.084895</td>\n",
       "    </tr>\n",
       "  </tbody>\n",
       "</table>\n",
       "</div>"
      ],
      "text/plain": [
       "          X         Y\n",
       "0  2.406157  4.870475\n",
       "1  2.580767  0.828599\n",
       "2  1.062696  5.176351\n",
       "3  2.548219  0.900839\n",
       "4  1.390161  5.084895"
      ]
     },
     "execution_count": 2,
     "metadata": {},
     "output_type": "execute_result"
    }
   ],
   "source": [
    "# https://bit.ly/3IAI2hJ \n",
    "\n",
    "import pandas as pd\n",
    "import numpy as np\n",
    "import random as rd\n",
    "import matplotlib.pyplot as plt\n",
    "\n",
    "# Create a dataset for list of coordinates\n",
    "column_names = [\"X\",\"Y\"]\n",
    "df = pd.DataFrame(data=X, columns=column_names)\n",
    "df.head()"
   ]
  },
  {
   "cell_type": "code",
   "execution_count": 3,
   "metadata": {},
   "outputs": [],
   "source": [
    "# select from dataframe where X < 0.5 and Y < 0.5\n",
    "new_df = df[(df['X'] < 0.5) & (df['Y'] < 0.5)]  "
   ]
  },
  {
   "cell_type": "code",
   "execution_count": 4,
   "metadata": {},
   "outputs": [
    {
     "data": {
      "text/html": [
       "<div>\n",
       "<style scoped>\n",
       "    .dataframe tbody tr th:only-of-type {\n",
       "        vertical-align: middle;\n",
       "    }\n",
       "\n",
       "    .dataframe tbody tr th {\n",
       "        vertical-align: top;\n",
       "    }\n",
       "\n",
       "    .dataframe thead th {\n",
       "        text-align: right;\n",
       "    }\n",
       "</style>\n",
       "<table border=\"1\" class=\"dataframe\">\n",
       "  <thead>\n",
       "    <tr style=\"text-align: right;\">\n",
       "      <th></th>\n",
       "      <th>X</th>\n",
       "      <th>Y</th>\n",
       "    </tr>\n",
       "  </thead>\n",
       "  <tbody>\n",
       "    <tr>\n",
       "      <th>87</th>\n",
       "      <td>0.994144</td>\n",
       "      <td>1.110953</td>\n",
       "    </tr>\n",
       "    <tr>\n",
       "      <th>103</th>\n",
       "      <td>0.754761</td>\n",
       "      <td>4.160160</td>\n",
       "    </tr>\n",
       "  </tbody>\n",
       "</table>\n",
       "</div>"
      ],
      "text/plain": [
       "            X         Y\n",
       "87   0.994144  1.110953\n",
       "103  0.754761  4.160160"
      ]
     },
     "execution_count": 4,
     "metadata": {},
     "output_type": "execute_result"
    }
   ],
   "source": [
    "def get_random_centroids(data, k = 3):\n",
    "    #return random samples from the dataset as initial centroids\n",
    "    cent = (data.sample(n = k))\n",
    "    return cent\n",
    "\n",
    "centroids = get_random_centroids(df, 2)\n",
    "centroids"
   ]
  },
  {
   "cell_type": "code",
   "execution_count": 19,
   "metadata": {},
   "outputs": [],
   "source": [
    "from sklearn.cluster import KMeans \n",
    "import math\n",
    "# pass in dataframe and centroids to assign each data point to a cluster\n",
    "# return the dataframe with the cluster assignment and the new centroids\n",
    "def k_means_fit(df,centroids):\n",
    "    #  CODE HERE TO ASSIGN EACH DATA POINT TO A CLUSTER\n",
    "    # This is the main Driver for calculating KMeans\n",
    "    \n",
    "    point_distances_df = []\n",
    "    # iterate over centroids and points to get distnaces\n",
    "    for idx, centroid in centroids.iterrows():\n",
    "        distances = []\n",
    "        for df_idx, point in df.iterrows():\n",
    "\n",
    "            distance = math.dist((centroid.X, centroid.Y), (point.X, point.Y))\n",
    "            distances.append(distance)\n",
    "\n",
    "        point_distances_df.append(distances)\n",
    "    \n",
    "    df['distances'] = point_distances_df\n",
    "    \n",
    "    # run the k_means_fit function until the centroids converge\n",
    "    C=[]\n",
    "    for index,row in df.iterrows():\n",
    "\n",
    "        #get distance from centroid of current data point\n",
    "        min_dist=row[1]\n",
    "        pos=1\n",
    "\n",
    "        #loop to locate the closest centroid to current point\n",
    "        for i in range(n):\n",
    "\n",
    "            #if current distance is greater than that of other centroids\n",
    "            if row[i+1] < min_dist:\n",
    "\n",
    "                #the smaller distanc becomes the minimum distance \n",
    "                min_dist = row[i+1]\n",
    "                pos=i+1\n",
    "        C.append(pos)\n",
    "            \n",
    "    #assigning the closest cluster to each data point\n",
    "    X[\"Cluster\"]=C\n",
    "\n",
    "    #grouping each cluster by their mean value to create new centroids\n",
    "    centroids_new = X.groupby([\"Cluster\"]).mean()[[\"X\",\"Y\"]]\n",
    "    if j == 0:\n",
    "        diff=1\n",
    "        j=j+1\n",
    "\n",
    "    else:\n",
    "        #check if there is a difference between old and new centroids\n",
    "        diff = (centroids_new['X'] - centroids['X']).sum() + (centroids_new['Y'] - centroids['Y']).sum()\n",
    "        print(diff.sum())\n",
    "\n",
    "    centroids = X.groupby([\"Cluster\"]).mean()[[\"X\",\"Y\"]]\n",
    "        \n",
    "    return X, centroids"
   ]
  },
  {
   "cell_type": "code",
   "execution_count": 20,
   "metadata": {},
   "outputs": [
    {
     "name": "stdout",
     "output_type": "stream",
     "text": [
      "            X         Y\n",
      "26   0.743874  4.122406\n",
      "99   0.884185  0.501729\n",
      "251  0.532532  5.229596\n",
      "172  1.894627  0.220857\n"
     ]
    },
    {
     "ename": "ValueError",
     "evalue": "Length of values (4) does not match length of index (300)",
     "output_type": "error",
     "traceback": [
      "\u001b[0;31m---------------------------------------------------------------------------\u001b[0m",
      "\u001b[0;31mValueError\u001b[0m                                Traceback (most recent call last)",
      "Cell \u001b[0;32mIn[20], line 6\u001b[0m\n\u001b[1;32m      3\u001b[0m \u001b[39mprint\u001b[39m(centroids)\n\u001b[1;32m      4\u001b[0m \u001b[39m# run the k_means_fit function until the centroids converge\u001b[39;00m\n\u001b[0;32m----> 6\u001b[0m df, new_centroids \u001b[39m=\u001b[39m k_means_fit(df,centroids)\n\u001b[1;32m      7\u001b[0m \u001b[39m# you may want to plot the centroids as they are recalculated\u001b[39;00m\n\u001b[1;32m      8\u001b[0m \n\u001b[1;32m      9\u001b[0m \n\u001b[1;32m     10\u001b[0m \u001b[39m# once converged, plot the data points and the centroids\u001b[39;00m\n\u001b[1;32m     11\u001b[0m \u001b[39m#setting color values for our \u001b[39;00m\n\u001b[1;32m     12\u001b[0m color\u001b[39m=\u001b[39m[\u001b[39m'\u001b[39m\u001b[39mbrown\u001b[39m\u001b[39m'\u001b[39m,\u001b[39m'\u001b[39m\u001b[39mblue\u001b[39m\u001b[39m'\u001b[39m,\u001b[39m'\u001b[39m\u001b[39mgreen\u001b[39m\u001b[39m'\u001b[39m,\u001b[39m'\u001b[39m\u001b[39mcyan\u001b[39m\u001b[39m'\u001b[39m]\n",
      "Cell \u001b[0;32mIn[19], line 20\u001b[0m, in \u001b[0;36mk_means_fit\u001b[0;34m(df, centroids)\u001b[0m\n\u001b[1;32m     16\u001b[0m         distances\u001b[39m.\u001b[39mappend(distance)\n\u001b[1;32m     18\u001b[0m     point_distances_df\u001b[39m.\u001b[39mappend(distances)\n\u001b[0;32m---> 20\u001b[0m df[\u001b[39m'\u001b[39;49m\u001b[39mdistances\u001b[39;49m\u001b[39m'\u001b[39;49m] \u001b[39m=\u001b[39m point_distances_df\n\u001b[1;32m     22\u001b[0m \u001b[39m# run the k_means_fit function until the centroids converge\u001b[39;00m\n\u001b[1;32m     23\u001b[0m C\u001b[39m=\u001b[39m[]\n",
      "File \u001b[0;32m~/.local/lib/python3.11/site-packages/pandas/core/frame.py:3980\u001b[0m, in \u001b[0;36mDataFrame.__setitem__\u001b[0;34m(self, key, value)\u001b[0m\n\u001b[1;32m   3977\u001b[0m     \u001b[39mself\u001b[39m\u001b[39m.\u001b[39m_setitem_array([key], value)\n\u001b[1;32m   3978\u001b[0m \u001b[39melse\u001b[39;00m:\n\u001b[1;32m   3979\u001b[0m     \u001b[39m# set column\u001b[39;00m\n\u001b[0;32m-> 3980\u001b[0m     \u001b[39mself\u001b[39;49m\u001b[39m.\u001b[39;49m_set_item(key, value)\n",
      "File \u001b[0;32m~/.local/lib/python3.11/site-packages/pandas/core/frame.py:4174\u001b[0m, in \u001b[0;36mDataFrame._set_item\u001b[0;34m(self, key, value)\u001b[0m\n\u001b[1;32m   4164\u001b[0m \u001b[39mdef\u001b[39;00m \u001b[39m_set_item\u001b[39m(\u001b[39mself\u001b[39m, key, value) \u001b[39m-\u001b[39m\u001b[39m>\u001b[39m \u001b[39mNone\u001b[39;00m:\n\u001b[1;32m   4165\u001b[0m \u001b[39m    \u001b[39m\u001b[39m\"\"\"\u001b[39;00m\n\u001b[1;32m   4166\u001b[0m \u001b[39m    Add series to DataFrame in specified column.\u001b[39;00m\n\u001b[1;32m   4167\u001b[0m \n\u001b[0;32m   (...)\u001b[0m\n\u001b[1;32m   4172\u001b[0m \u001b[39m    ensure homogeneity.\u001b[39;00m\n\u001b[1;32m   4173\u001b[0m \u001b[39m    \"\"\"\u001b[39;00m\n\u001b[0;32m-> 4174\u001b[0m     value \u001b[39m=\u001b[39m \u001b[39mself\u001b[39;49m\u001b[39m.\u001b[39;49m_sanitize_column(value)\n\u001b[1;32m   4176\u001b[0m     \u001b[39mif\u001b[39;00m (\n\u001b[1;32m   4177\u001b[0m         key \u001b[39min\u001b[39;00m \u001b[39mself\u001b[39m\u001b[39m.\u001b[39mcolumns\n\u001b[1;32m   4178\u001b[0m         \u001b[39mand\u001b[39;00m value\u001b[39m.\u001b[39mndim \u001b[39m==\u001b[39m \u001b[39m1\u001b[39m\n\u001b[1;32m   4179\u001b[0m         \u001b[39mand\u001b[39;00m \u001b[39mnot\u001b[39;00m is_extension_array_dtype(value)\n\u001b[1;32m   4180\u001b[0m     ):\n\u001b[1;32m   4181\u001b[0m         \u001b[39m# broadcast across multiple columns if necessary\u001b[39;00m\n\u001b[1;32m   4182\u001b[0m         \u001b[39mif\u001b[39;00m \u001b[39mnot\u001b[39;00m \u001b[39mself\u001b[39m\u001b[39m.\u001b[39mcolumns\u001b[39m.\u001b[39mis_unique \u001b[39mor\u001b[39;00m \u001b[39misinstance\u001b[39m(\u001b[39mself\u001b[39m\u001b[39m.\u001b[39mcolumns, MultiIndex):\n",
      "File \u001b[0;32m~/.local/lib/python3.11/site-packages/pandas/core/frame.py:4915\u001b[0m, in \u001b[0;36mDataFrame._sanitize_column\u001b[0;34m(self, value)\u001b[0m\n\u001b[1;32m   4912\u001b[0m     \u001b[39mreturn\u001b[39;00m _reindex_for_setitem(Series(value), \u001b[39mself\u001b[39m\u001b[39m.\u001b[39mindex)\n\u001b[1;32m   4914\u001b[0m \u001b[39mif\u001b[39;00m is_list_like(value):\n\u001b[0;32m-> 4915\u001b[0m     com\u001b[39m.\u001b[39;49mrequire_length_match(value, \u001b[39mself\u001b[39;49m\u001b[39m.\u001b[39;49mindex)\n\u001b[1;32m   4916\u001b[0m \u001b[39mreturn\u001b[39;00m sanitize_array(value, \u001b[39mself\u001b[39m\u001b[39m.\u001b[39mindex, copy\u001b[39m=\u001b[39m\u001b[39mTrue\u001b[39;00m, allow_2d\u001b[39m=\u001b[39m\u001b[39mTrue\u001b[39;00m)\n",
      "File \u001b[0;32m~/.local/lib/python3.11/site-packages/pandas/core/common.py:571\u001b[0m, in \u001b[0;36mrequire_length_match\u001b[0;34m(data, index)\u001b[0m\n\u001b[1;32m    567\u001b[0m \u001b[39m\u001b[39m\u001b[39m\"\"\"\u001b[39;00m\n\u001b[1;32m    568\u001b[0m \u001b[39mCheck the length of data matches the length of the index.\u001b[39;00m\n\u001b[1;32m    569\u001b[0m \u001b[39m\"\"\"\u001b[39;00m\n\u001b[1;32m    570\u001b[0m \u001b[39mif\u001b[39;00m \u001b[39mlen\u001b[39m(data) \u001b[39m!=\u001b[39m \u001b[39mlen\u001b[39m(index):\n\u001b[0;32m--> 571\u001b[0m     \u001b[39mraise\u001b[39;00m \u001b[39mValueError\u001b[39;00m(\n\u001b[1;32m    572\u001b[0m         \u001b[39m\"\u001b[39m\u001b[39mLength of values \u001b[39m\u001b[39m\"\u001b[39m\n\u001b[1;32m    573\u001b[0m         \u001b[39mf\u001b[39m\u001b[39m\"\u001b[39m\u001b[39m(\u001b[39m\u001b[39m{\u001b[39;00m\u001b[39mlen\u001b[39m(data)\u001b[39m}\u001b[39;00m\u001b[39m) \u001b[39m\u001b[39m\"\u001b[39m\n\u001b[1;32m    574\u001b[0m         \u001b[39m\"\u001b[39m\u001b[39mdoes not match length of index \u001b[39m\u001b[39m\"\u001b[39m\n\u001b[1;32m    575\u001b[0m         \u001b[39mf\u001b[39m\u001b[39m\"\u001b[39m\u001b[39m(\u001b[39m\u001b[39m{\u001b[39;00m\u001b[39mlen\u001b[39m(index)\u001b[39m}\u001b[39;00m\u001b[39m)\u001b[39m\u001b[39m\"\u001b[39m\n\u001b[1;32m    576\u001b[0m     )\n",
      "\u001b[0;31mValueError\u001b[0m: Length of values (4) does not match length of index (300)"
     ]
    }
   ],
   "source": [
    "# This is the main Driver for calculating KMeans\n",
    "centroids = get_random_centroids(df, k = 4)\n",
    "print(centroids)\n",
    "# run the k_means_fit function until the centroids converge\n",
    "\n",
    "df, new_centroids = k_means_fit(df,centroids)\n",
    "# you may want to plot the centroids as they are recalculated\n",
    "\n",
    "\n",
    "# once converged, plot the data points and the centroids\n",
    "#setting color values for our \n",
    "color=['brown','blue','green','cyan']\n",
    "\n",
    "#plot data\n",
    "for k in range(len(color)):\n",
    "    # pick only data observations with cluster label == k\n",
    "    cluster = centroids[k]\n",
    "    plt.scatter(cluster[\"X\"],cluster[\"Y\"],c=color[k])\n",
    "    \n",
    "    #loop plot centroids in red   \n",
    "    plt.scatter(centroids[k][\"X\"],centroids[k][\"Y\"],c='red')\n",
    "    plt.xlabel('X')\n",
    "    plt.ylabel('Y')"
   ]
  },
  {
   "cell_type": "markdown",
   "metadata": {},
   "source": [
    "# KMeans Using Numpy Arrays"
   ]
  },
  {
   "cell_type": "code",
   "execution_count": 2,
   "metadata": {},
   "outputs": [
    {
     "name": "stdout",
     "output_type": "stream",
     "text": [
      "[1.25566754 3.38204112]\n",
      "[-1.45672617  7.48669893]\n",
      "[0.27239604 5.46996004]\n",
      "[-1.73163168  7.16447286]\n",
      "targets AAA: [[ 1.25566754  3.38204112]\n",
      " [-1.45672617  7.48669893]\n",
      " [ 0.27239604  5.46996004]\n",
      " [-1.73163168  7.16447286]]\n",
      "targets: [[ 0.63223041  2.21223868]\n",
      " [ 0.19328008  3.59107052]\n",
      " [ 0.11906763  3.75945426]\n",
      " [-0.00632763  3.96782089]]\n",
      "targets: [[ 1.48884828  1.06700268]\n",
      " [ 0.82843071  1.82526836]\n",
      " [ 0.8453954   2.03255294]\n",
      " [-0.00632763  3.96782089]]\n",
      "targets: [[ 2.01151465  0.81936391]\n",
      " [ 1.78137824  0.89237431]\n",
      " [ 1.71242319  1.01351556]\n",
      " [-0.00632763  3.96782089]]\n",
      "targets: [[ 2.43953315  0.73517585]\n",
      " [ 2.1597536   0.67694991]\n",
      " [ 1.94385045  0.87306002]\n",
      " [-0.00632763  3.96782089]]\n",
      "targets: [[ 2.71018185  0.94899521]\n",
      " [ 2.41493689  0.60850307]\n",
      " [ 1.98258281  0.86771314]\n",
      " [-0.00632763  3.96782089]]\n",
      "targets: [[ 2.77551355  1.17706766]\n",
      " [ 2.52811623  0.68369212]\n",
      " [ 1.98258281  0.86771314]\n",
      " [-0.00632763  3.96782089]]\n",
      "targets: [[ 2.72597188  1.41962941]\n",
      " [ 2.64336202  0.91391934]\n",
      " [ 1.98726097  0.90144281]\n",
      " [-0.00632763  3.96782089]]\n",
      "targets: [[ 2.59070384  1.68429668]\n",
      " [ 2.6226602   1.02242991]\n",
      " [ 1.98726097  0.90144281]\n",
      " [-0.00632763  3.96782089]]\n",
      "targets: [[ 2.25133723  2.05199963]\n",
      " [ 2.52899746  1.29203557]\n",
      " [ 1.98880512  0.93512709]\n",
      " [-0.00632763  3.96782089]]\n",
      "targets: [[ 1.68823502  2.42180409]\n",
      " [ 2.36215568  1.62860887]\n",
      " [ 1.98458852  0.96881638]\n",
      " [-0.00632763  3.96782089]]\n"
     ]
    },
    {
     "data": {
      "text/plain": [
       "Text(0, 0.5, 'Y')"
      ]
     },
     "execution_count": 2,
     "metadata": {},
     "output_type": "execute_result"
    },
    {
     "data": {
      "image/png": "[encoded data removed]",
      "text/plain": [
       "<Figure size 432x288 with 1 Axes>"
      ]
     },
     "metadata": {},
     "output_type": "display_data"
    }
   ],
   "source": [
    "# Create Clusters of points\n",
    "from sklearn.datasets import make_blobs\n",
    "import numpy as np\n",
    "import matplotlib.pyplot as plt\n",
    "import seaborn as sns\n",
    "\n",
    "sns.set()  # for plot styling\n",
    "X, y_true = make_blobs(n_samples=300, centers=4,\n",
    "                       cluster_std=0.60, random_state=0)\n",
    "plt.scatter(X[:, 0], X[:, 1], s=50)\n",
    "\n",
    "# This is another implementation using Numpy Arrays\n",
    "\n",
    "\n",
    "def createClusters(targets, points):\n",
    "    targetID = np.zeros((len(points), 1))\n",
    "\n",
    "    # assign point to target\n",
    "    for index, point in enumerate(points):\n",
    "        targetID[index] = getClosest(targets, point)\n",
    "    return targetID  # this maps points to target\n",
    "\n",
    "# assign point to closest target\n",
    "\n",
    "\n",
    "def getClosest(targets, point):\n",
    "    closest = 0\n",
    "    dmin = np.infty\n",
    "    for i in range(len(targets)):\n",
    "        d = np.linalg.norm(targets[i] - point)\n",
    "        if d < dmin:\n",
    "            closest = i\n",
    "            dmin = d\n",
    "    return closest\n",
    "\n",
    "\n",
    "def getRandomPoint(X):\n",
    "    i = np.random.randint(0, len(X)-1)\n",
    "    return np.array(X[i])\n",
    "\n",
    "\n",
    "def updateTargets(X, targetID, targets):\n",
    "    newTargets = np.zeros((0, 2), float)\n",
    "    points = np.zeros((0, 2), float)\n",
    "    rowsTarget = targets.shape[0]\n",
    "    rowsX = X.shape[0]\n",
    "    for i in range(0, rowsTarget):\n",
    "        \n",
    "        for j in range(0, rowsX):\n",
    "            clusterID = int(targetID[j])\n",
    "            if clusterID == i:\n",
    "                point = X[j]\n",
    "                points = np.append(points, point)\n",
    "\n",
    "        k = int(np.ceil(len(points)/2))\n",
    "        points = points.reshape((k, 2))\n",
    "        newTargets = np.append(newTargets, points.mean(0))\n",
    "        \n",
    "    k = int(len(newTargets)/2)\n",
    "    return newTargets.reshape((k, 2))\n",
    "\n",
    "\n",
    "# get k random targets\n",
    "k = 4\n",
    "targets = np.zeros((k, 2))\n",
    "for i in range(k):\n",
    "    centroid = getRandomPoint(X)\n",
    "    targets[i] = np.array(centroid)\n",
    "\n",
    "print(f'Initial targets : {targets}')\n",
    "# loop until targets don't move\n",
    "for iter in range(10):\n",
    "    targetID = createClusters(targets, X)\n",
    "\n",
    "    plt.scatter(X[:, 0], X[:, 1], c=targetID, s=50, cmap='viridis')\n",
    "\n",
    "    # update the targets\n",
    "    targets = np.array(updateTargets(X, targetID, targets))\n",
    "\n",
    "    # plot centroids\n",
    "    print(f'targets: {targets}')\n",
    "    centx = targets[:, 0]\n",
    "    centy = targets[:, 1]\n",
    "    plt.scatter(centx, centy, c='orange')\n",
    "    plt.xlabel('X')\n",
    "    plt.ylabel('Y')\n",
    "\n",
    "centx = targets[:, 0]\n",
    "centy = targets[:, 1]\n",
    "plt.scatter(centx, centy, c='red')\n",
    "plt.xlabel('X')\n",
    "plt.ylabel('Y')"
   ]
  },
  {
   "cell_type": "code",
   "execution_count": null,
   "metadata": {},
   "outputs": [],
   "source": []
  }
 ],
 "metadata": {
  "kernelspec": {
   "display_name": "Python 3",
   "language": "python",
   "name": "python3"
  },
  "language_info": {
   "codemirror_mode": {
    "name": "ipython",
    "version": 3
   },
   "file_extension": ".py",
   "mimetype": "text/x-python",
   "name": "python",
   "nbconvert_exporter": "python",
   "pygments_lexer": "ipython3",
   "version": "3.11.2"
  },
  "orig_nbformat": 4,
  "vscode": {
   "interpreter": {
    "hash": "3ad933181bd8a04b432d3370b9dc3b0662ad032c4dfaa4e4f1596c548f763858"
   }
  }
 },
 "nbformat": 4,
 "nbformat_minor": 2
}
